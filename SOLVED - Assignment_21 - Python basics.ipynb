{
 "cells": [
  {
   "cell_type": "markdown",
   "id": "e87ee9e0",
   "metadata": {},
   "source": [
    "Q.1. Add the current date to the text file today.txt as a string."
   ]
  },
  {
   "cell_type": "code",
   "execution_count": 1,
   "id": "e665f156",
   "metadata": {},
   "outputs": [
    {
     "data": {
      "text/plain": [
       "'2023-01-05'"
      ]
     },
     "execution_count": 1,
     "metadata": {},
     "output_type": "execute_result"
    }
   ],
   "source": [
    "import datetime\n",
    "from datetime import date\n",
    "now = date.today()\n",
    "cur_date = now.isoformat()\n",
    "cur_date"
   ]
  },
  {
   "cell_type": "code",
   "execution_count": 2,
   "id": "5eca85b4",
   "metadata": {},
   "outputs": [],
   "source": [
    "with open('today.txt','w') as file:\n",
    "    file.write(cur_date)"
   ]
  },
  {
   "cell_type": "markdown",
   "id": "a441cc5f",
   "metadata": {},
   "source": [
    "Q.2. Read the text file today.txt into the string today_string"
   ]
  },
  {
   "cell_type": "code",
   "execution_count": 3,
   "id": "6b90aad7",
   "metadata": {},
   "outputs": [
    {
     "data": {
      "text/plain": [
       "'2023-01-05'"
      ]
     },
     "execution_count": 3,
     "metadata": {},
     "output_type": "execute_result"
    }
   ],
   "source": [
    "with open('today.txt','r') as file:\n",
    "    today_string = file.read()\n",
    "today_string"
   ]
  },
  {
   "cell_type": "markdown",
   "id": "68e3de21",
   "metadata": {},
   "source": [
    "Q.3. Parse the date from today_string."
   ]
  },
  {
   "cell_type": "code",
   "execution_count": 4,
   "id": "97e558c2",
   "metadata": {},
   "outputs": [
    {
     "data": {
      "text/plain": [
       "datetime.datetime(2023, 1, 5, 0, 0)"
      ]
     },
     "execution_count": 4,
     "metadata": {},
     "output_type": "execute_result"
    }
   ],
   "source": [
    "from datetime import datetime\n",
    "format = '%Y-%m-%d'\n",
    "datetime.strptime(today_string,format)"
   ]
  },
  {
   "cell_type": "markdown",
   "id": "a161e61e",
   "metadata": {},
   "source": [
    "Q.4. List the files in your current directory"
   ]
  },
  {
   "cell_type": "code",
   "execution_count": 6,
   "id": "0eec439a",
   "metadata": {},
   "outputs": [
    {
     "data": {
      "text/plain": [
       "['.ipynb_checkpoints',\n",
       " 'books.csv',\n",
       " 'books.db',\n",
       " 'SOLVED - Assignment_10 - Python basics.ipynb',\n",
       " 'SOLVED - Assignment_11 - Python basics.ipynb',\n",
       " 'SOLVED - Assignment_12 - Python basics.ipynb',\n",
       " 'SOLVED - Assignment_13 - Python basics.ipynb',\n",
       " 'SOLVED - Assignment_14 - Python basics.ipynb',\n",
       " 'SOLVED - Assignment_15 - Python basics.ipynb',\n",
       " 'SOLVED - Assignment_16 - Python basics.ipynb',\n",
       " 'SOLVED - Assignment_17 - Python basics.ipynb',\n",
       " 'SOLVED - Assignment_18 - Python basics.ipynb',\n",
       " 'SOLVED - Assignment_19 - Python basics.ipynb',\n",
       " 'SOLVED - Assignment_2-Python Basic.ipynb',\n",
       " 'SOLVED - Assignment_20 - Python basics.ipynb',\n",
       " 'SOLVED - Assignment_21 - Python basics.ipynb',\n",
       " 'SOLVED - Assignment_3 - Python basics.ipynb',\n",
       " 'SOLVED - Assignment_4 - Python basics.ipynb',\n",
       " 'SOLVED - Assignment_5 - Python basics.ipynb',\n",
       " 'SOLVED - Assignment_6 - Python basics.ipynb',\n",
       " 'SOLVED - Assignment_7 - Python basics.ipynb',\n",
       " 'SOLVED - Assignment_8 - Python basics.ipynb',\n",
       " 'SOLVED - Assignment_9 - Python basics.ipynb',\n",
       " 'test.txt',\n",
       " 'today.txt']"
      ]
     },
     "execution_count": 6,
     "metadata": {},
     "output_type": "execute_result"
    }
   ],
   "source": [
    "import os\n",
    "os.listdir('.')"
   ]
  },
  {
   "cell_type": "markdown",
   "id": "d4ac5e02",
   "metadata": {},
   "source": [
    "Q.5. Use multiprocessing to create three separate processes. Make each one wait a random number of seconds between one and five, print the current time, and then exit."
   ]
  },
  {
   "cell_type": "code",
   "execution_count": 1,
   "id": "30e3727c",
   "metadata": {},
   "outputs": [],
   "source": [
    "import os"
   ]
  },
  {
   "cell_type": "code",
   "execution_count": 2,
   "id": "7dd66eea",
   "metadata": {},
   "outputs": [
    {
     "data": {
      "text/plain": [
       "['.ipynb_checkpoints',\n",
       " '.ipython',\n",
       " '.jupyter',\n",
       " '3D Objects',\n",
       " 'AppData',\n",
       " 'Application Data',\n",
       " 'Autodesk',\n",
       " 'Contacts',\n",
       " 'Cookies',\n",
       " 'Desktop',\n",
       " 'Documents',\n",
       " 'Downloads',\n",
       " 'Favorites',\n",
       " 'INEURON ASSIGNMENTS',\n",
       " 'IntelGraphicsProfiles',\n",
       " 'Links',\n",
       " 'Local Settings',\n",
       " 'Music',\n",
       " 'My Documents',\n",
       " 'NetHood',\n",
       " 'NTUSER.DAT',\n",
       " 'ntuser.dat.LOG1',\n",
       " 'ntuser.dat.LOG2',\n",
       " 'NTUSER.DAT{2164fd73-3cbf-11ed-9598-d3ce77f19915}.TxR.0.regtrans-ms',\n",
       " 'NTUSER.DAT{2164fd73-3cbf-11ed-9598-d3ce77f19915}.TxR.1.regtrans-ms',\n",
       " 'NTUSER.DAT{2164fd73-3cbf-11ed-9598-d3ce77f19915}.TxR.2.regtrans-ms',\n",
       " 'NTUSER.DAT{2164fd73-3cbf-11ed-9598-d3ce77f19915}.TxR.blf',\n",
       " 'NTUSER.DAT{2164fd74-3cbf-11ed-9598-d3ce77f19915}.TM.blf',\n",
       " 'NTUSER.DAT{2164fd74-3cbf-11ed-9598-d3ce77f19915}.TMContainer00000000000000000001.regtrans-ms',\n",
       " 'NTUSER.DAT{2164fd74-3cbf-11ed-9598-d3ce77f19915}.TMContainer00000000000000000002.regtrans-ms',\n",
       " 'ntuser.ini',\n",
       " 'OneDrive',\n",
       " 'Pictures',\n",
       " 'PrintHood',\n",
       " 'Recent',\n",
       " 'Saved Games',\n",
       " 'ScStore',\n",
       " 'Searches',\n",
       " 'SendTo',\n",
       " 'Start Menu',\n",
       " 'Templates',\n",
       " 'Videos']"
      ]
     },
     "execution_count": 2,
     "metadata": {},
     "output_type": "execute_result"
    }
   ],
   "source": [
    "os.listdir('..')"
   ]
  },
  {
   "cell_type": "markdown",
   "id": "4a5ff388",
   "metadata": {},
   "source": [
    "Q.6. Create a date object of your day of birth"
   ]
  },
  {
   "cell_type": "code",
   "execution_count": 10,
   "id": "db760da6",
   "metadata": {},
   "outputs": [
    {
     "data": {
      "text/plain": [
       "datetime.date(1998, 11, 11)"
      ]
     },
     "execution_count": 10,
     "metadata": {},
     "output_type": "execute_result"
    }
   ],
   "source": [
    "my_dob = date(1998,11,11)\n",
    "my_dob\n",
    "     "
   ]
  },
  {
   "cell_type": "markdown",
   "id": "40890752",
   "metadata": {},
   "source": [
    "Q.7. What day of the week was your day of birth?"
   ]
  },
  {
   "cell_type": "code",
   "execution_count": 12,
   "id": "3b5328d0",
   "metadata": {},
   "outputs": [
    {
     "data": {
      "text/plain": [
       "2"
      ]
     },
     "execution_count": 12,
     "metadata": {},
     "output_type": "execute_result"
    }
   ],
   "source": [
    "my_dob.weekday()"
   ]
  },
  {
   "cell_type": "markdown",
   "id": "0c838493",
   "metadata": {},
   "source": [
    "Q.8. When will you be (or when were you) 10,000 days old?"
   ]
  },
  {
   "cell_type": "code",
   "execution_count": 13,
   "id": "111e61ab",
   "metadata": {},
   "outputs": [
    {
     "data": {
      "text/plain": [
       "datetime.date(2026, 3, 29)"
      ]
     },
     "execution_count": 13,
     "metadata": {},
     "output_type": "execute_result"
    }
   ],
   "source": [
    "from datetime import timedelta\n",
    "day10000 = my_dob + timedelta(days=10000)\n",
    "day10000"
   ]
  },
  {
   "cell_type": "code",
   "execution_count": null,
   "id": "ee51162a",
   "metadata": {},
   "outputs": [],
   "source": []
  }
 ],
 "metadata": {
  "kernelspec": {
   "display_name": "Python 3 (ipykernel)",
   "language": "python",
   "name": "python3"
  },
  "language_info": {
   "codemirror_mode": {
    "name": "ipython",
    "version": 3
   },
   "file_extension": ".py",
   "mimetype": "text/x-python",
   "name": "python",
   "nbconvert_exporter": "python",
   "pygments_lexer": "ipython3",
   "version": "3.9.13"
  }
 },
 "nbformat": 4,
 "nbformat_minor": 5
}
