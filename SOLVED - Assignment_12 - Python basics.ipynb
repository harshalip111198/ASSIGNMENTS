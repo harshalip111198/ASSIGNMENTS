{
 "cells": [
  {
   "cell_type": "markdown",
   "id": "059789f3",
   "metadata": {},
   "source": [
    "Q.1. In what modes should the PdfFileReader() and PdfFileWriter() File objects will be opened?\n",
    "\n",
    "Ans.These files will be opened in binary mode., read binary (rb) for PdfFileREader() and write binary (wb) PdfFileWriter()"
   ]
  },
  {
   "cell_type": "code",
   "execution_count": 1,
   "id": "85e7765b",
   "metadata": {},
   "outputs": [
    {
     "name": "stdout",
     "output_type": "stream",
     "text": [
      "Defaulting to user installation because normal site-packages is not writeable\n",
      "Collecting PyPDF2\n",
      "  Downloading pypdf2-3.0.1-py3-none-any.whl (232 kB)\n",
      "     -------------------------------------- 232.6/232.6 kB 2.4 MB/s eta 0:00:00\n",
      "Requirement already satisfied: typing_extensions>=3.10.0.0 in c:\\programdata\\anaconda3\\lib\\site-packages (from PyPDF2) (4.3.0)\n",
      "Installing collected packages: PyPDF2\n",
      "Successfully installed PyPDF2-3.0.1\n"
     ]
    }
   ],
   "source": [
    "!pip install PyPDF2"
   ]
  },
  {
   "cell_type": "markdown",
   "id": "20f6eb88",
   "metadata": {},
   "source": [
    "Q.2. From a PdfFileReader object, how do you get a Page object for page 5?\n",
    "\n",
    "Ans. Calling getPage(4) will return a Page object for page 5 since page 0 is the first page"
   ]
  },
  {
   "cell_type": "code",
   "execution_count": null,
   "id": "a1c95159",
   "metadata": {},
   "outputs": [],
   "source": [
    "import PyPDF2 as pdf\n",
    "pdfFileObj = open(\"cardealer.pdf\",'rb')\n",
    "pdfReader = pdf.PdfFileReader(pdfFileObj)\n",
    "pageObj = pdfReader.getPage(4)\n",
    "pageObj.extractText()"
   ]
  },
  {
   "cell_type": "markdown",
   "id": "2c521ae5",
   "metadata": {},
   "source": [
    "Q.3. What PdfFileReader variable stores the number of pages in the PDF document?"
   ]
  },
  {
   "cell_type": "code",
   "execution_count": null,
   "id": "266c5375",
   "metadata": {},
   "outputs": [],
   "source": [
    "import PyPDF2 as pdf\n",
    "pdfFileObj = open(\"cardealer.pdf\",'rb')\n",
    "pdfReader = pdf.PdfFileReader(pdfFileObj)\n",
    "pdfReader.numPages"
   ]
  },
  {
   "cell_type": "markdown",
   "id": "85c624d8",
   "metadata": {},
   "source": [
    "Q.4. If a PdfFileReader object’s PDF is encrypted with the password swordfish, what must you do before you can obtain Page objects from it?\n",
    "\n",
    "Ans. Before we obtain the page object, the pdf has to be decrypted by calling .decrypt('swordfish')\n",
    "\n",
    "\n",
    "Q.5. What methods do you use to rotate a page?"
   ]
  },
  {
   "cell_type": "code",
   "execution_count": null,
   "id": "cccd99e8",
   "metadata": {},
   "outputs": [],
   "source": [
    "#pageObj.rotateClockwise(180)\n",
    "\n",
    "#The rotateClockwise() and rotateCounterClockwise() methods. The degrees to rotate is passed as an integer argument"
   ]
  },
  {
   "cell_type": "markdown",
   "id": "3bd37c12",
   "metadata": {},
   "source": [
    "Q.6. What is the difference between a Run object and a Paragraph object?\n",
    "\n",
    "Ans.\n",
    "Paragraph Object : A document contains multiple paragraphs. A paragraph begins on a new line and contains multiple\n",
    "runs. The Document object contains a list of Paragraph objects for the paragraphs in the document. (A new paragraph begins whenever the user presses ENTER or RETURN while typing in a Word document.)\n",
    "\n",
    "Run Objects : Runs are contiguous groups of characters within a paragraph with the same style\n",
    "\n",
    "Q.7. How do you obtain a list of Paragraph objects for a Document object that’s stored in a variable named doc?"
   ]
  },
  {
   "cell_type": "code",
   "execution_count": null,
   "id": "de5b6ad2",
   "metadata": {},
   "outputs": [],
   "source": [
    "#!pip install python-docx\n",
    "import docx\n",
    "doc = docx.Document('abc.docx')\n",
    "doc.paragraphs\n",
    "#By using doc.paragraphs"
   ]
  },
  {
   "cell_type": "markdown",
   "id": "ec75b8e1",
   "metadata": {},
   "source": [
    "Q.8. What type of object has bold, underline, italic, strike, and outline variables?\n",
    "\n",
    "Ans. A Run object has bold, underline,italic,strike and outline variables\n",
    "\n",
    "\n",
    "Q.9. What is the difference between False, True, and None for the bold variable?\n",
    "\n",
    "Ans.\n",
    "Runs can be further styled using text attributes. Each attribute can be set to one of three values:\n",
    "True (the attribute is always enabled, no matter what other styles are applied to the run),\n",
    "False (the attribute is always disabled),\n",
    "None (defaults to whatever the run’s style is set to)\n",
    "True always makes the Run object bolded and False makes it always not bolded, no matter what the style’s bold setting is. None will make the Run object just use the style’s bold setting\n",
    "\n",
    "\n",
    "Q.10 How do you create a Document object for a new Word document?\n",
    "\n",
    "Ans. By Calling the docx.Document() function.\n",
    "\n",
    "\n",
    "Q.11. How do you add a paragraph with the text 'Hello, there!'' to a Document object stored in a variable named doc?"
   ]
  },
  {
   "cell_type": "code",
   "execution_count": null,
   "id": "f79d97ba",
   "metadata": {},
   "outputs": [],
   "source": [
    "import docx\n",
    "doc = docx.Document()\n",
    "\n",
    "doc.add_paragraph('Hello there!')\n",
    "doc.save('hellothere.docx')\n",
    "     "
   ]
  },
  {
   "cell_type": "markdown",
   "id": "12d4ad81",
   "metadata": {},
   "source": [
    "Q.12. What integers represent the levels of headings available in Word documents?\n",
    "\n",
    "Ans.integer from 0 to 4\n",
    "The arguments to add_heading() are a string of the heading text and an integer from 0 to 4. The integer 0 makes the heading the Title style, which is used for the top of the document. Integers 1 to 4 are for various heading levels, with 1 being the main heading and 4 the lowest subheading"
   ]
  }
 ],
 "metadata": {
  "kernelspec": {
   "display_name": "Python 3 (ipykernel)",
   "language": "python",
   "name": "python3"
  },
  "language_info": {
   "codemirror_mode": {
    "name": "ipython",
    "version": 3
   },
   "file_extension": ".py",
   "mimetype": "text/x-python",
   "name": "python",
   "nbconvert_exporter": "python",
   "pygments_lexer": "ipython3",
   "version": "3.9.13"
  }
 },
 "nbformat": 4,
 "nbformat_minor": 5
}
