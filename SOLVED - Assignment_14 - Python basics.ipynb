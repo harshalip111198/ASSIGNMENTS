{
 "cells": [
  {
   "cell_type": "markdown",
   "id": "1a9d6f5d",
   "metadata": {},
   "source": [
    "Q.1. What does RGBA stand for?\n",
    "\n",
    "Ans.\n",
    "RGBA stands for red, green, blue, and alpha (transparency) in the color\n",
    "An RGBA value is a tuple of 4 integers, each ranging from 0 to 255. The four integers correspond\n",
    "to the amount of red, green, blue, and alpha (transparency) in the color\n",
    "\n",
    "\n",
    "Q.2. From the Pillow module, how do you get the RGBA value of any images ?"
   ]
  },
  {
   "cell_type": "code",
   "execution_count": 1,
   "id": "7160cadc",
   "metadata": {},
   "outputs": [
    {
     "data": {
      "text/plain": [
       "(255, 0, 0, 255)"
      ]
     },
     "execution_count": 1,
     "metadata": {},
     "output_type": "execute_result"
    }
   ],
   "source": [
    "from PIL import ImageColor\n",
    "ImageColor.getcolor('green', 'RGBA')\n",
    "ImageColor.getcolor('red', 'RGBA')"
   ]
  },
  {
   "cell_type": "markdown",
   "id": "2edecf70",
   "metadata": {},
   "source": [
    "Q.3. What is a box tuple, and how does it work?\n",
    "\n",
    "Ans. A box tuple is a tuple value of four integers: the left edge x-coordinate, the top edge y-coordinate, the width, and \n",
    "    the height, respectively\n",
    "\n",
    "\n",
    "\n",
    "Q.4 Use your image and load in notebook then, How can you find out the width and height of an Image object?"
   ]
  },
  {
   "cell_type": "markdown",
   "id": "dbed9d4c",
   "metadata": {},
   "source": [
    "Ans.imageObj.size is a tuple of two integers, the width and the height."
   ]
  },
  {
   "cell_type": "markdown",
   "id": "aae9bd41",
   "metadata": {},
   "source": [
    "Q.5. What method would you call to get Image object for a 100×100 image, excluding the lower-left quarter of it?\n",
    "\n",
    "Ans. ImageObject.crop((0, 50, 50, 50))\n",
    "\n",
    "\n",
    "Q.6. After making changes to an Image object, how could you save it as an image file?\n",
    "\n",
    "Ans. By Calling the imageObj.save('new_filename.png') method of the Image object.\n",
    "\n",
    "\n",
    "Q.7. What module contains Pillow’s shape-drawing code?\n",
    "\n",
    "Ans. The ImageDraw module contains code to draw on images\n",
    "\n",
    "\n",
    "Q.8. Image objects do not have drawing methods. What kind of object does? How do you get this kind of object?\n",
    "\n",
    "Ans. ImageDraw objects have shape-drawing methods such as point(), line(), or rectangle(). They are returned by passing the Image object to the ImageDraw.Draw() function"
   ]
  }
 ],
 "metadata": {
  "kernelspec": {
   "display_name": "Python 3 (ipykernel)",
   "language": "python",
   "name": "python3"
  },
  "language_info": {
   "codemirror_mode": {
    "name": "ipython",
    "version": 3
   },
   "file_extension": ".py",
   "mimetype": "text/x-python",
   "name": "python",
   "nbconvert_exporter": "python",
   "pygments_lexer": "ipython3",
   "version": "3.9.13"
  }
 },
 "nbformat": 4,
 "nbformat_minor": 5
}
