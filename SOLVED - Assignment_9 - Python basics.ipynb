{
 "cells": [
  {
   "cell_type": "markdown",
   "id": "292c538b",
   "metadata": {},
   "source": [
    "1.To what does a relative path refer?\n",
    "\n",
    "Ans. A relative path in Python is a path that describes the location of a directory relative to the entry point where you run the Python script.\n",
    "\n",
    "2.What does an absolute path start with your operating system?\n",
    "\n",
    "Ans. An absolute path is defined as the specifying the location of a file or directory from the root directory(/). In other words we can say absolute path is a complete path from start of actual filesystem from / directory.\n",
    "\n",
    "3.What do the functions os.getcwd() and os.chdir() do?\n",
    "\n",
    "Ans.Check and Set Your Working Directory Using OS\n",
    "getcwd() : CWD stands for Current Working Directory. This function allows you to see what your current working directory is. chdir(\"path-to-dir\") : Short for CHange DIRectory, this function allows you to set the current working directory to a path of your choice.\n",
    "\n",
    "4.What are the . and .. folders?\n",
    "\n",
    "Ans. As mentioned above '. ' represents the current directory. While '..' represents the parent directory. Windows represents them as links.\n",
    "\n",
    "5.In C:\\bacon\\eggs\\spam.txt, which part is the dir name, and which part is the base name?\n",
    "\n",
    "Ans.In C:\\bacon\\eggs\\spam. txt, which part is the dir name, and which part is the base name? C:\\bacon\\eggs is the dir name, while spam. txt is the base name.\n",
    "\n",
    "6.What are the three “mode” arguments that can be passed to the open() function?\n",
    "\n",
    "Ans.The three modes available for the open() function are as follows:\n",
    "r : Opens the file in read-only mode. ...\n",
    "rb : Opens the file as read-only in binary format and starts reading from the beginning of the file. ...\n",
    "r+ : Opens a file for reading and writing, placing the pointer at the beginning of the file.\n",
    "\n",
    "7.What happens if an existing file is opened in write mode?\n",
    "\n",
    "Ans.fopen() for an existing file in write mode\n",
    "When mode “w” is specified, it creates an empty file for output operations. What if the file already exists? If a file with the same name already exists, its contents are discarded and the file is treated as a new empty file.\n",
    "\n",
    "8.How do you tell the difference between read() and readlines()?\n",
    "\n",
    "Ans.read() reads all of the file's contents into a string, readline reads just a single line from the file.\n",
    "\n",
    "9.What data structure does a shelf value resemble?\n",
    "\n",
    "Ans.A shelf value resembles a dictionary value; it has keys and values, along with keys() and values() methods that work similarly to the dictionary methods of the same names."
   ]
  }
 ],
 "metadata": {
  "kernelspec": {
   "display_name": "Python 3 (ipykernel)",
   "language": "python",
   "name": "python3"
  },
  "language_info": {
   "codemirror_mode": {
    "name": "ipython",
    "version": 3
   },
   "file_extension": ".py",
   "mimetype": "text/x-python",
   "name": "python",
   "nbconvert_exporter": "python",
   "pygments_lexer": "ipython3",
   "version": "3.9.13"
  }
 },
 "nbformat": 4,
 "nbformat_minor": 5
}
